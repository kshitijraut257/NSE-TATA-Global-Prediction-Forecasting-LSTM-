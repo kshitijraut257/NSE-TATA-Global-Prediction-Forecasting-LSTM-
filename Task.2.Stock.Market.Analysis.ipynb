{
 "cells": [
  {
   "cell_type": "markdown",
   "metadata": {
    "id": "EKDdnj9Ft732"
   },
   "source": [
    "# Kshitij Naresh Raut\n",
    "## Let's Grow More\n",
    "## Task-2 : Stock Market Prediction And Forecasting Using Stacked LSTM\n",
    "## Datasetlink : https://raw.githubusercontent.com/mwitiderrick/stockprice/master/NSE-TATAGLOBAL.csv "
   ]
  },
  {
   "cell_type": "markdown",
   "metadata": {
    "id": "q5PtC23gucac"
   },
   "source": [
    "# Importing libraries"
   ]
  },
  {
   "cell_type": "code",
   "execution_count": 1,
   "metadata": {
    "executionInfo": {
     "elapsed": 3891,
     "status": "ok",
     "timestamp": 1650733630275,
     "user": {
      "displayName": "Harsh Bansal",
      "userId": "14022242986795664987"
     },
     "user_tz": -330
    },
    "id": "bDjra1ujVxT8"
   },
   "outputs": [],
   "source": [
    "import numpy as np\n",
    "import pandas as pd\n",
    "import matplotlib.pyplot as plt\n",
    "import seaborn as sns \n",
    "import math\n",
    "import tensorflow as tf\n",
    "import datetime\n",
    "from sklearn.preprocessing import MinMaxScaler\n",
    "from sklearn.metrics import mean_squared_error\n",
    "from tensorflow.keras.models import Sequential\n",
    "from tensorflow.keras.layers import Dense , LSTM\n",
    "from sklearn.metrics import mean_squared_error\n",
    "%matplotlib inline\n"
   ]
  },
  {
   "cell_type": "markdown",
   "metadata": {
    "id": "rPYd4q1Vutbl"
   },
   "source": [
    "Load the data"
   ]
  },
  {
   "cell_type": "code",
   "execution_count": 3,
   "metadata": {
    "executionInfo": {
     "elapsed": 11,
     "status": "ok",
     "timestamp": 1650733651726,
     "user": {
      "displayName": "Harsh Bansal",
      "userId": "14022242986795664987"
     },
     "user_tz": -330
    },
    "id": "9L54hauPV-8P"
   },
   "outputs": [],
   "source": [
    "df=pd.read_csv('NSE-TATAGLOBAL.csv')"
   ]
  },
  {
   "cell_type": "code",
   "execution_count": 4,
   "metadata": {
    "colab": {
     "base_uri": "https://localhost:8080/",
     "height": 206
    },
    "executionInfo": {
     "elapsed": 493,
     "status": "ok",
     "timestamp": 1650733654416,
     "user": {
      "displayName": "Harsh Bansal",
      "userId": "14022242986795664987"
     },
     "user_tz": -330
    },
    "id": "7poiCMs3WKPl",
    "outputId": "357ea74e-ec49-46d1-97e6-f222e0944b22"
   },
   "outputs": [
    {
     "data": {
      "text/html": [
       "\n",
       "  <div id=\"df-ec11fbb6-e42a-48ef-91a4-5cceb3176b32\">\n",
       "    <div class=\"colab-df-container\">\n",
       "      <div>\n",
       "<style scoped>\n",
       "    .dataframe tbody tr th:only-of-type {\n",
       "        vertical-align: middle;\n",
       "    }\n",
       "\n",
       "    .dataframe tbody tr th {\n",
       "        vertical-align: top;\n",
       "    }\n",
       "\n",
       "    .dataframe thead th {\n",
       "        text-align: right;\n",
       "    }\n",
       "</style>\n",
       "<table border=\"1\" class=\"dataframe\">\n",
       "  <thead>\n",
       "    <tr style=\"text-align: right;\">\n",
       "      <th></th>\n",
       "      <th>Date</th>\n",
       "      <th>Open</th>\n",
       "      <th>High</th>\n",
       "      <th>Low</th>\n",
       "      <th>Last</th>\n",
       "      <th>Close</th>\n",
       "      <th>Total Trade Quantity</th>\n",
       "      <th>Turnover (Lacs)</th>\n",
       "    </tr>\n",
       "  </thead>\n",
       "  <tbody>\n",
       "    <tr>\n",
       "      <th>0</th>\n",
       "      <td>2018-09-28</td>\n",
       "      <td>234.05</td>\n",
       "      <td>235.95</td>\n",
       "      <td>230.20</td>\n",
       "      <td>233.50</td>\n",
       "      <td>233.75</td>\n",
       "      <td>3069914</td>\n",
       "      <td>7162.35</td>\n",
       "    </tr>\n",
       "    <tr>\n",
       "      <th>1</th>\n",
       "      <td>2018-09-27</td>\n",
       "      <td>234.55</td>\n",
       "      <td>236.80</td>\n",
       "      <td>231.10</td>\n",
       "      <td>233.80</td>\n",
       "      <td>233.25</td>\n",
       "      <td>5082859</td>\n",
       "      <td>11859.95</td>\n",
       "    </tr>\n",
       "    <tr>\n",
       "      <th>2</th>\n",
       "      <td>2018-09-26</td>\n",
       "      <td>240.00</td>\n",
       "      <td>240.00</td>\n",
       "      <td>232.50</td>\n",
       "      <td>235.00</td>\n",
       "      <td>234.25</td>\n",
       "      <td>2240909</td>\n",
       "      <td>5248.60</td>\n",
       "    </tr>\n",
       "    <tr>\n",
       "      <th>3</th>\n",
       "      <td>2018-09-25</td>\n",
       "      <td>233.30</td>\n",
       "      <td>236.75</td>\n",
       "      <td>232.00</td>\n",
       "      <td>236.25</td>\n",
       "      <td>236.10</td>\n",
       "      <td>2349368</td>\n",
       "      <td>5503.90</td>\n",
       "    </tr>\n",
       "    <tr>\n",
       "      <th>4</th>\n",
       "      <td>2018-09-24</td>\n",
       "      <td>233.55</td>\n",
       "      <td>239.20</td>\n",
       "      <td>230.75</td>\n",
       "      <td>234.00</td>\n",
       "      <td>233.30</td>\n",
       "      <td>3423509</td>\n",
       "      <td>7999.55</td>\n",
       "    </tr>\n",
       "  </tbody>\n",
       "</table>\n",
       "</div>\n",
       "      <button class=\"colab-df-convert\" onclick=\"convertToInteractive('df-ec11fbb6-e42a-48ef-91a4-5cceb3176b32')\"\n",
       "              title=\"Convert this dataframe to an interactive table.\"\n",
       "              style=\"display:none;\">\n",
       "        \n",
       "  <svg xmlns=\"http://www.w3.org/2000/svg\" height=\"24px\"viewBox=\"0 0 24 24\"\n",
       "       width=\"24px\">\n",
       "    <path d=\"M0 0h24v24H0V0z\" fill=\"none\"/>\n",
       "    <path d=\"M18.56 5.44l.94 2.06.94-2.06 2.06-.94-2.06-.94-.94-2.06-.94 2.06-2.06.94zm-11 1L8.5 8.5l.94-2.06 2.06-.94-2.06-.94L8.5 2.5l-.94 2.06-2.06.94zm10 10l.94 2.06.94-2.06 2.06-.94-2.06-.94-.94-2.06-.94 2.06-2.06.94z\"/><path d=\"M17.41 7.96l-1.37-1.37c-.4-.4-.92-.59-1.43-.59-.52 0-1.04.2-1.43.59L10.3 9.45l-7.72 7.72c-.78.78-.78 2.05 0 2.83L4 21.41c.39.39.9.59 1.41.59.51 0 1.02-.2 1.41-.59l7.78-7.78 2.81-2.81c.8-.78.8-2.07 0-2.86zM5.41 20L4 18.59l7.72-7.72 1.47 1.35L5.41 20z\"/>\n",
       "  </svg>\n",
       "      </button>\n",
       "      \n",
       "  <style>\n",
       "    .colab-df-container {\n",
       "      display:flex;\n",
       "      flex-wrap:wrap;\n",
       "      gap: 12px;\n",
       "    }\n",
       "\n",
       "    .colab-df-convert {\n",
       "      background-color: #E8F0FE;\n",
       "      border: none;\n",
       "      border-radius: 50%;\n",
       "      cursor: pointer;\n",
       "      display: none;\n",
       "      fill: #1967D2;\n",
       "      height: 32px;\n",
       "      padding: 0 0 0 0;\n",
       "      width: 32px;\n",
       "    }\n",
       "\n",
       "    .colab-df-convert:hover {\n",
       "      background-color: #E2EBFA;\n",
       "      box-shadow: 0px 1px 2px rgba(60, 64, 67, 0.3), 0px 1px 3px 1px rgba(60, 64, 67, 0.15);\n",
       "      fill: #174EA6;\n",
       "    }\n",
       "\n",
       "    [theme=dark] .colab-df-convert {\n",
       "      background-color: #3B4455;\n",
       "      fill: #D2E3FC;\n",
       "    }\n",
       "\n",
       "    [theme=dark] .colab-df-convert:hover {\n",
       "      background-color: #434B5C;\n",
       "      box-shadow: 0px 1px 3px 1px rgba(0, 0, 0, 0.15);\n",
       "      filter: drop-shadow(0px 1px 2px rgba(0, 0, 0, 0.3));\n",
       "      fill: #FFFFFF;\n",
       "    }\n",
       "  </style>\n",
       "\n",
       "      <script>\n",
       "        const buttonEl =\n",
       "          document.querySelector('#df-ec11fbb6-e42a-48ef-91a4-5cceb3176b32 button.colab-df-convert');\n",
       "        buttonEl.style.display =\n",
       "          google.colab.kernel.accessAllowed ? 'block' : 'none';\n",
       "\n",
       "        async function convertToInteractive(key) {\n",
       "          const element = document.querySelector('#df-ec11fbb6-e42a-48ef-91a4-5cceb3176b32');\n",
       "          const dataTable =\n",
       "            await google.colab.kernel.invokeFunction('convertToInteractive',\n",
       "                                                     [key], {});\n",
       "          if (!dataTable) return;\n",
       "\n",
       "          const docLinkHtml = 'Like what you see? Visit the ' +\n",
       "            '<a target=\"_blank\" href=https://colab.research.google.com/notebooks/data_table.ipynb>data table notebook</a>'\n",
       "            + ' to learn more about interactive tables.';\n",
       "          element.innerHTML = '';\n",
       "          dataTable['output_type'] = 'display_data';\n",
       "          await google.colab.output.renderOutput(dataTable, element);\n",
       "          const docLink = document.createElement('div');\n",
       "          docLink.innerHTML = docLinkHtml;\n",
       "          element.appendChild(docLink);\n",
       "        }\n",
       "      </script>\n",
       "    </div>\n",
       "  </div>\n",
       "  "
      ],
      "text/plain": [
       "         Date    Open    High     Low    Last   Close  Total Trade Quantity  \\\n",
       "0  2018-09-28  234.05  235.95  230.20  233.50  233.75               3069914   \n",
       "1  2018-09-27  234.55  236.80  231.10  233.80  233.25               5082859   \n",
       "2  2018-09-26  240.00  240.00  232.50  235.00  234.25               2240909   \n",
       "3  2018-09-25  233.30  236.75  232.00  236.25  236.10               2349368   \n",
       "4  2018-09-24  233.55  239.20  230.75  234.00  233.30               3423509   \n",
       "\n",
       "   Turnover (Lacs)  \n",
       "0          7162.35  \n",
       "1         11859.95  \n",
       "2          5248.60  \n",
       "3          5503.90  \n",
       "4          7999.55  "
      ]
     },
     "execution_count": 4,
     "metadata": {},
     "output_type": "execute_result"
    }
   ],
   "source": [
    "df.head(5)"
   ]
  },
  {
   "cell_type": "markdown",
   "metadata": {
    "id": "8CS4V3Bhu0gE"
   },
   "source": [
    "statistical Analysis of the data"
   ]
  },
  {
   "cell_type": "code",
   "execution_count": 5,
   "metadata": {
    "colab": {
     "base_uri": "https://localhost:8080/",
     "height": 300
    },
    "executionInfo": {
     "elapsed": 9,
     "status": "ok",
     "timestamp": 1650733656112,
     "user": {
      "displayName": "Harsh Bansal",
      "userId": "14022242986795664987"
     },
     "user_tz": -330
    },
    "id": "cE6p6jt7WLqT",
    "outputId": "b3b72cab-4639-4041-928d-9202bbde6630"
   },
   "outputs": [
    {
     "data": {
      "text/html": [
       "\n",
       "  <div id=\"df-3d02b35a-8d1a-4f61-8018-d92bfcea5f37\">\n",
       "    <div class=\"colab-df-container\">\n",
       "      <div>\n",
       "<style scoped>\n",
       "    .dataframe tbody tr th:only-of-type {\n",
       "        vertical-align: middle;\n",
       "    }\n",
       "\n",
       "    .dataframe tbody tr th {\n",
       "        vertical-align: top;\n",
       "    }\n",
       "\n",
       "    .dataframe thead th {\n",
       "        text-align: right;\n",
       "    }\n",
       "</style>\n",
       "<table border=\"1\" class=\"dataframe\">\n",
       "  <thead>\n",
       "    <tr style=\"text-align: right;\">\n",
       "      <th></th>\n",
       "      <th>Open</th>\n",
       "      <th>High</th>\n",
       "      <th>Low</th>\n",
       "      <th>Last</th>\n",
       "      <th>Close</th>\n",
       "      <th>Total Trade Quantity</th>\n",
       "      <th>Turnover (Lacs)</th>\n",
       "    </tr>\n",
       "  </thead>\n",
       "  <tbody>\n",
       "    <tr>\n",
       "      <th>count</th>\n",
       "      <td>2035.000000</td>\n",
       "      <td>2035.000000</td>\n",
       "      <td>2035.000000</td>\n",
       "      <td>2035.000000</td>\n",
       "      <td>2035.00000</td>\n",
       "      <td>2.035000e+03</td>\n",
       "      <td>2035.000000</td>\n",
       "    </tr>\n",
       "    <tr>\n",
       "      <th>mean</th>\n",
       "      <td>149.713735</td>\n",
       "      <td>151.992826</td>\n",
       "      <td>147.293931</td>\n",
       "      <td>149.474251</td>\n",
       "      <td>149.45027</td>\n",
       "      <td>2.335681e+06</td>\n",
       "      <td>3899.980565</td>\n",
       "    </tr>\n",
       "    <tr>\n",
       "      <th>std</th>\n",
       "      <td>48.664509</td>\n",
       "      <td>49.413109</td>\n",
       "      <td>47.931958</td>\n",
       "      <td>48.732570</td>\n",
       "      <td>48.71204</td>\n",
       "      <td>2.091778e+06</td>\n",
       "      <td>4570.767877</td>\n",
       "    </tr>\n",
       "    <tr>\n",
       "      <th>min</th>\n",
       "      <td>81.100000</td>\n",
       "      <td>82.800000</td>\n",
       "      <td>80.000000</td>\n",
       "      <td>81.000000</td>\n",
       "      <td>80.95000</td>\n",
       "      <td>3.961000e+04</td>\n",
       "      <td>37.040000</td>\n",
       "    </tr>\n",
       "    <tr>\n",
       "      <th>25%</th>\n",
       "      <td>120.025000</td>\n",
       "      <td>122.100000</td>\n",
       "      <td>118.300000</td>\n",
       "      <td>120.075000</td>\n",
       "      <td>120.05000</td>\n",
       "      <td>1.146444e+06</td>\n",
       "      <td>1427.460000</td>\n",
       "    </tr>\n",
       "    <tr>\n",
       "      <th>50%</th>\n",
       "      <td>141.500000</td>\n",
       "      <td>143.400000</td>\n",
       "      <td>139.600000</td>\n",
       "      <td>141.100000</td>\n",
       "      <td>141.25000</td>\n",
       "      <td>1.783456e+06</td>\n",
       "      <td>2512.030000</td>\n",
       "    </tr>\n",
       "    <tr>\n",
       "      <th>75%</th>\n",
       "      <td>157.175000</td>\n",
       "      <td>159.400000</td>\n",
       "      <td>155.150000</td>\n",
       "      <td>156.925000</td>\n",
       "      <td>156.90000</td>\n",
       "      <td>2.813594e+06</td>\n",
       "      <td>4539.015000</td>\n",
       "    </tr>\n",
       "    <tr>\n",
       "      <th>max</th>\n",
       "      <td>327.700000</td>\n",
       "      <td>328.750000</td>\n",
       "      <td>321.650000</td>\n",
       "      <td>325.950000</td>\n",
       "      <td>325.75000</td>\n",
       "      <td>2.919102e+07</td>\n",
       "      <td>55755.080000</td>\n",
       "    </tr>\n",
       "  </tbody>\n",
       "</table>\n",
       "</div>\n",
       "      <button class=\"colab-df-convert\" onclick=\"convertToInteractive('df-3d02b35a-8d1a-4f61-8018-d92bfcea5f37')\"\n",
       "              title=\"Convert this dataframe to an interactive table.\"\n",
       "              style=\"display:none;\">\n",
       "        \n",
       "  <svg xmlns=\"http://www.w3.org/2000/svg\" height=\"24px\"viewBox=\"0 0 24 24\"\n",
       "       width=\"24px\">\n",
       "    <path d=\"M0 0h24v24H0V0z\" fill=\"none\"/>\n",
       "    <path d=\"M18.56 5.44l.94 2.06.94-2.06 2.06-.94-2.06-.94-.94-2.06-.94 2.06-2.06.94zm-11 1L8.5 8.5l.94-2.06 2.06-.94-2.06-.94L8.5 2.5l-.94 2.06-2.06.94zm10 10l.94 2.06.94-2.06 2.06-.94-2.06-.94-.94-2.06-.94 2.06-2.06.94z\"/><path d=\"M17.41 7.96l-1.37-1.37c-.4-.4-.92-.59-1.43-.59-.52 0-1.04.2-1.43.59L10.3 9.45l-7.72 7.72c-.78.78-.78 2.05 0 2.83L4 21.41c.39.39.9.59 1.41.59.51 0 1.02-.2 1.41-.59l7.78-7.78 2.81-2.81c.8-.78.8-2.07 0-2.86zM5.41 20L4 18.59l7.72-7.72 1.47 1.35L5.41 20z\"/>\n",
       "  </svg>\n",
       "      </button>\n",
       "      \n",
       "  <style>\n",
       "    .colab-df-container {\n",
       "      display:flex;\n",
       "      flex-wrap:wrap;\n",
       "      gap: 12px;\n",
       "    }\n",
       "\n",
       "    .colab-df-convert {\n",
       "      background-color: #E8F0FE;\n",
       "      border: none;\n",
       "      border-radius: 50%;\n",
       "      cursor: pointer;\n",
       "      display: none;\n",
       "      fill: #1967D2;\n",
       "      height: 32px;\n",
       "      padding: 0 0 0 0;\n",
       "      width: 32px;\n",
       "    }\n",
       "\n",
       "    .colab-df-convert:hover {\n",
       "      background-color: #E2EBFA;\n",
       "      box-shadow: 0px 1px 2px rgba(60, 64, 67, 0.3), 0px 1px 3px 1px rgba(60, 64, 67, 0.15);\n",
       "      fill: #174EA6;\n",
       "    }\n",
       "\n",
       "    [theme=dark] .colab-df-convert {\n",
       "      background-color: #3B4455;\n",
       "      fill: #D2E3FC;\n",
       "    }\n",
       "\n",
       "    [theme=dark] .colab-df-convert:hover {\n",
       "      background-color: #434B5C;\n",
       "      box-shadow: 0px 1px 3px 1px rgba(0, 0, 0, 0.15);\n",
       "      filter: drop-shadow(0px 1px 2px rgba(0, 0, 0, 0.3));\n",
       "      fill: #FFFFFF;\n",
       "    }\n",
       "  </style>\n",
       "\n",
       "      <script>\n",
       "        const buttonEl =\n",
       "          document.querySelector('#df-3d02b35a-8d1a-4f61-8018-d92bfcea5f37 button.colab-df-convert');\n",
       "        buttonEl.style.display =\n",
       "          google.colab.kernel.accessAllowed ? 'block' : 'none';\n",
       "\n",
       "        async function convertToInteractive(key) {\n",
       "          const element = document.querySelector('#df-3d02b35a-8d1a-4f61-8018-d92bfcea5f37');\n",
       "          const dataTable =\n",
       "            await google.colab.kernel.invokeFunction('convertToInteractive',\n",
       "                                                     [key], {});\n",
       "          if (!dataTable) return;\n",
       "\n",
       "          const docLinkHtml = 'Like what you see? Visit the ' +\n",
       "            '<a target=\"_blank\" href=https://colab.research.google.com/notebooks/data_table.ipynb>data table notebook</a>'\n",
       "            + ' to learn more about interactive tables.';\n",
       "          element.innerHTML = '';\n",
       "          dataTable['output_type'] = 'display_data';\n",
       "          await google.colab.output.renderOutput(dataTable, element);\n",
       "          const docLink = document.createElement('div');\n",
       "          docLink.innerHTML = docLinkHtml;\n",
       "          element.appendChild(docLink);\n",
       "        }\n",
       "      </script>\n",
       "    </div>\n",
       "  </div>\n",
       "  "
      ],
      "text/plain": [
       "              Open         High          Low         Last       Close  \\\n",
       "count  2035.000000  2035.000000  2035.000000  2035.000000  2035.00000   \n",
       "mean    149.713735   151.992826   147.293931   149.474251   149.45027   \n",
       "std      48.664509    49.413109    47.931958    48.732570    48.71204   \n",
       "min      81.100000    82.800000    80.000000    81.000000    80.95000   \n",
       "25%     120.025000   122.100000   118.300000   120.075000   120.05000   \n",
       "50%     141.500000   143.400000   139.600000   141.100000   141.25000   \n",
       "75%     157.175000   159.400000   155.150000   156.925000   156.90000   \n",
       "max     327.700000   328.750000   321.650000   325.950000   325.75000   \n",
       "\n",
       "       Total Trade Quantity  Turnover (Lacs)  \n",
       "count          2.035000e+03      2035.000000  \n",
       "mean           2.335681e+06      3899.980565  \n",
       "std            2.091778e+06      4570.767877  \n",
       "min            3.961000e+04        37.040000  \n",
       "25%            1.146444e+06      1427.460000  \n",
       "50%            1.783456e+06      2512.030000  \n",
       "75%            2.813594e+06      4539.015000  \n",
       "max            2.919102e+07     55755.080000  "
      ]
     },
     "execution_count": 5,
     "metadata": {},
     "output_type": "execute_result"
    }
   ],
   "source": [
    "df.describe()"
   ]
  },
  {
   "cell_type": "code",
   "execution_count": 6,
   "metadata": {
    "colab": {
     "base_uri": "https://localhost:8080/"
    },
    "executionInfo": {
     "elapsed": 7,
     "status": "ok",
     "timestamp": 1650733658209,
     "user": {
      "displayName": "Harsh Bansal",
      "userId": "14022242986795664987"
     },
     "user_tz": -330
    },
    "id": "nlR_9VY6WX5K",
    "outputId": "336352c0-f01f-4410-be0c-25b226500489"
   },
   "outputs": [
    {
     "data": {
      "text/plain": [
       "(2035, 8)"
      ]
     },
     "execution_count": 6,
     "metadata": {},
     "output_type": "execute_result"
    }
   ],
   "source": [
    "df.shape"
   ]
  },
  {
   "cell_type": "code",
   "execution_count": 7,
   "metadata": {
    "colab": {
     "base_uri": "https://localhost:8080/"
    },
    "executionInfo": {
     "elapsed": 15,
     "status": "ok",
     "timestamp": 1650733660276,
     "user": {
      "displayName": "Harsh Bansal",
      "userId": "14022242986795664987"
     },
     "user_tz": -330
    },
    "id": "fulfQNKYk9Xr",
    "outputId": "67528de2-1322-4d5b-9319-81feb81d150b"
   },
   "outputs": [
    {
     "name": "stdout",
     "output_type": "stream",
     "text": [
      "<class 'pandas.core.frame.DataFrame'>\n",
      "RangeIndex: 2035 entries, 0 to 2034\n",
      "Data columns (total 8 columns):\n",
      " #   Column                Non-Null Count  Dtype  \n",
      "---  ------                --------------  -----  \n",
      " 0   Date                  2035 non-null   object \n",
      " 1   Open                  2035 non-null   float64\n",
      " 2   High                  2035 non-null   float64\n",
      " 3   Low                   2035 non-null   float64\n",
      " 4   Last                  2035 non-null   float64\n",
      " 5   Close                 2035 non-null   float64\n",
      " 6   Total Trade Quantity  2035 non-null   int64  \n",
      " 7   Turnover (Lacs)       2035 non-null   float64\n",
      "dtypes: float64(6), int64(1), object(1)\n",
      "memory usage: 127.3+ KB\n"
     ]
    }
   ],
   "source": [
    "df.info()"
   ]
  },
  {
   "cell_type": "code",
   "execution_count": 8,
   "metadata": {
    "colab": {
     "base_uri": "https://localhost:8080/"
    },
    "executionInfo": {
     "elapsed": 18,
     "status": "ok",
     "timestamp": 1650733661752,
     "user": {
      "displayName": "Harsh Bansal",
      "userId": "14022242986795664987"
     },
     "user_tz": -330
    },
    "id": "lt3wWAAKlCtE",
    "outputId": "b81cd0e2-ae49-45cf-80df-aac07b4ff0c1"
   },
   "outputs": [
    {
     "data": {
      "text/plain": [
       "Date                    0\n",
       "Open                    0\n",
       "High                    0\n",
       "Low                     0\n",
       "Last                    0\n",
       "Close                   0\n",
       "Total Trade Quantity    0\n",
       "Turnover (Lacs)         0\n",
       "dtype: int64"
      ]
     },
     "execution_count": 8,
     "metadata": {},
     "output_type": "execute_result"
    }
   ],
   "source": [
    "df.isnull().sum()"
   ]
  },
  {
   "cell_type": "code",
   "execution_count": 9,
   "metadata": {
    "colab": {
     "base_uri": "https://localhost:8080/",
     "height": 206
    },
    "executionInfo": {
     "elapsed": 7,
     "status": "ok",
     "timestamp": 1650733663356,
     "user": {
      "displayName": "Harsh Bansal",
      "userId": "14022242986795664987"
     },
     "user_tz": -330
    },
    "id": "gfhAy1WplOir",
    "outputId": "487bdcab-20a1-4cdf-bbfa-679000dc984e"
   },
   "outputs": [
    {
     "data": {
      "text/html": [
       "\n",
       "  <div id=\"df-18703267-2c13-4f52-8ab8-41622884c779\">\n",
       "    <div class=\"colab-df-container\">\n",
       "      <div>\n",
       "<style scoped>\n",
       "    .dataframe tbody tr th:only-of-type {\n",
       "        vertical-align: middle;\n",
       "    }\n",
       "\n",
       "    .dataframe tbody tr th {\n",
       "        vertical-align: top;\n",
       "    }\n",
       "\n",
       "    .dataframe thead th {\n",
       "        text-align: right;\n",
       "    }\n",
       "</style>\n",
       "<table border=\"1\" class=\"dataframe\">\n",
       "  <thead>\n",
       "    <tr style=\"text-align: right;\">\n",
       "      <th></th>\n",
       "      <th>Date</th>\n",
       "      <th>Open</th>\n",
       "      <th>High</th>\n",
       "      <th>Low</th>\n",
       "      <th>Last</th>\n",
       "      <th>Close</th>\n",
       "      <th>Total Trade Quantity</th>\n",
       "      <th>Turnover (Lacs)</th>\n",
       "    </tr>\n",
       "  </thead>\n",
       "  <tbody>\n",
       "    <tr>\n",
       "      <th>2034</th>\n",
       "      <td>2010-07-21</td>\n",
       "      <td>122.1</td>\n",
       "      <td>123.00</td>\n",
       "      <td>121.05</td>\n",
       "      <td>121.10</td>\n",
       "      <td>121.55</td>\n",
       "      <td>658666</td>\n",
       "      <td>803.56</td>\n",
       "    </tr>\n",
       "    <tr>\n",
       "      <th>2033</th>\n",
       "      <td>2010-07-22</td>\n",
       "      <td>120.3</td>\n",
       "      <td>122.00</td>\n",
       "      <td>120.25</td>\n",
       "      <td>120.75</td>\n",
       "      <td>120.90</td>\n",
       "      <td>293312</td>\n",
       "      <td>355.17</td>\n",
       "    </tr>\n",
       "    <tr>\n",
       "      <th>2032</th>\n",
       "      <td>2010-07-23</td>\n",
       "      <td>121.8</td>\n",
       "      <td>121.95</td>\n",
       "      <td>120.25</td>\n",
       "      <td>120.35</td>\n",
       "      <td>120.65</td>\n",
       "      <td>281312</td>\n",
       "      <td>340.31</td>\n",
       "    </tr>\n",
       "    <tr>\n",
       "      <th>2031</th>\n",
       "      <td>2010-07-26</td>\n",
       "      <td>120.1</td>\n",
       "      <td>121.00</td>\n",
       "      <td>117.10</td>\n",
       "      <td>117.10</td>\n",
       "      <td>117.60</td>\n",
       "      <td>658440</td>\n",
       "      <td>780.01</td>\n",
       "    </tr>\n",
       "    <tr>\n",
       "      <th>2030</th>\n",
       "      <td>2010-07-27</td>\n",
       "      <td>117.6</td>\n",
       "      <td>119.50</td>\n",
       "      <td>112.00</td>\n",
       "      <td>118.80</td>\n",
       "      <td>118.65</td>\n",
       "      <td>586100</td>\n",
       "      <td>694.98</td>\n",
       "    </tr>\n",
       "  </tbody>\n",
       "</table>\n",
       "</div>\n",
       "      <button class=\"colab-df-convert\" onclick=\"convertToInteractive('df-18703267-2c13-4f52-8ab8-41622884c779')\"\n",
       "              title=\"Convert this dataframe to an interactive table.\"\n",
       "              style=\"display:none;\">\n",
       "        \n",
       "  <svg xmlns=\"http://www.w3.org/2000/svg\" height=\"24px\"viewBox=\"0 0 24 24\"\n",
       "       width=\"24px\">\n",
       "    <path d=\"M0 0h24v24H0V0z\" fill=\"none\"/>\n",
       "    <path d=\"M18.56 5.44l.94 2.06.94-2.06 2.06-.94-2.06-.94-.94-2.06-.94 2.06-2.06.94zm-11 1L8.5 8.5l.94-2.06 2.06-.94-2.06-.94L8.5 2.5l-.94 2.06-2.06.94zm10 10l.94 2.06.94-2.06 2.06-.94-2.06-.94-.94-2.06-.94 2.06-2.06.94z\"/><path d=\"M17.41 7.96l-1.37-1.37c-.4-.4-.92-.59-1.43-.59-.52 0-1.04.2-1.43.59L10.3 9.45l-7.72 7.72c-.78.78-.78 2.05 0 2.83L4 21.41c.39.39.9.59 1.41.59.51 0 1.02-.2 1.41-.59l7.78-7.78 2.81-2.81c.8-.78.8-2.07 0-2.86zM5.41 20L4 18.59l7.72-7.72 1.47 1.35L5.41 20z\"/>\n",
       "  </svg>\n",
       "      </button>\n",
       "      \n",
       "  <style>\n",
       "    .colab-df-container {\n",
       "      display:flex;\n",
       "      flex-wrap:wrap;\n",
       "      gap: 12px;\n",
       "    }\n",
       "\n",
       "    .colab-df-convert {\n",
       "      background-color: #E8F0FE;\n",
       "      border: none;\n",
       "      border-radius: 50%;\n",
       "      cursor: pointer;\n",
       "      display: none;\n",
       "      fill: #1967D2;\n",
       "      height: 32px;\n",
       "      padding: 0 0 0 0;\n",
       "      width: 32px;\n",
       "    }\n",
       "\n",
       "    .colab-df-convert:hover {\n",
       "      background-color: #E2EBFA;\n",
       "      box-shadow: 0px 1px 2px rgba(60, 64, 67, 0.3), 0px 1px 3px 1px rgba(60, 64, 67, 0.15);\n",
       "      fill: #174EA6;\n",
       "    }\n",
       "\n",
       "    [theme=dark] .colab-df-convert {\n",
       "      background-color: #3B4455;\n",
       "      fill: #D2E3FC;\n",
       "    }\n",
       "\n",
       "    [theme=dark] .colab-df-convert:hover {\n",
       "      background-color: #434B5C;\n",
       "      box-shadow: 0px 1px 3px 1px rgba(0, 0, 0, 0.15);\n",
       "      filter: drop-shadow(0px 1px 2px rgba(0, 0, 0, 0.3));\n",
       "      fill: #FFFFFF;\n",
       "    }\n",
       "  </style>\n",
       "\n",
       "      <script>\n",
       "        const buttonEl =\n",
       "          document.querySelector('#df-18703267-2c13-4f52-8ab8-41622884c779 button.colab-df-convert');\n",
       "        buttonEl.style.display =\n",
       "          google.colab.kernel.accessAllowed ? 'block' : 'none';\n",
       "\n",
       "        async function convertToInteractive(key) {\n",
       "          const element = document.querySelector('#df-18703267-2c13-4f52-8ab8-41622884c779');\n",
       "          const dataTable =\n",
       "            await google.colab.kernel.invokeFunction('convertToInteractive',\n",
       "                                                     [key], {});\n",
       "          if (!dataTable) return;\n",
       "\n",
       "          const docLinkHtml = 'Like what you see? Visit the ' +\n",
       "            '<a target=\"_blank\" href=https://colab.research.google.com/notebooks/data_table.ipynb>data table notebook</a>'\n",
       "            + ' to learn more about interactive tables.';\n",
       "          element.innerHTML = '';\n",
       "          dataTable['output_type'] = 'display_data';\n",
       "          await google.colab.output.renderOutput(dataTable, element);\n",
       "          const docLink = document.createElement('div');\n",
       "          docLink.innerHTML = docLinkHtml;\n",
       "          element.appendChild(docLink);\n",
       "        }\n",
       "      </script>\n",
       "    </div>\n",
       "  </div>\n",
       "  "
      ],
      "text/plain": [
       "            Date   Open    High     Low    Last   Close  Total Trade Quantity  \\\n",
       "2034  2010-07-21  122.1  123.00  121.05  121.10  121.55                658666   \n",
       "2033  2010-07-22  120.3  122.00  120.25  120.75  120.90                293312   \n",
       "2032  2010-07-23  121.8  121.95  120.25  120.35  120.65                281312   \n",
       "2031  2010-07-26  120.1  121.00  117.10  117.10  117.60                658440   \n",
       "2030  2010-07-27  117.6  119.50  112.00  118.80  118.65                586100   \n",
       "\n",
       "      Turnover (Lacs)  \n",
       "2034           803.56  \n",
       "2033           355.17  \n",
       "2032           340.31  \n",
       "2031           780.01  \n",
       "2030           694.98  "
      ]
     },
     "execution_count": 9,
     "metadata": {},
     "output_type": "execute_result"
    }
   ],
   "source": [
    "df = df.sort_values('Date')\n",
    "df.head()"
   ]
  },
  {
   "cell_type": "code",
   "execution_count": 10,
   "metadata": {
    "executionInfo": {
     "elapsed": 16,
     "status": "ok",
     "timestamp": 1650733664938,
     "user": {
      "displayName": "Harsh Bansal",
      "userId": "14022242986795664987"
     },
     "user_tz": -330
    },
    "id": "b4J5NIYlle8o"
   },
   "outputs": [],
   "source": [
    "df.reset_index(inplace=True)"
   ]
  },
  {
   "cell_type": "code",
   "execution_count": 11,
   "metadata": {
    "colab": {
     "base_uri": "https://localhost:8080/"
    },
    "executionInfo": {
     "elapsed": 11,
     "status": "ok",
     "timestamp": 1650733666336,
     "user": {
      "displayName": "Harsh Bansal",
      "userId": "14022242986795664987"
     },
     "user_tz": -330
    },
    "id": "0CA7aTyAlp5X",
    "outputId": "f28a10a9-bdaa-468f-c8ea-4f6a9f1b1530"
   },
   "outputs": [
    {
     "data": {
      "text/plain": [
       "0       121.55\n",
       "1       120.90\n",
       "2       120.65\n",
       "3       117.60\n",
       "4       118.65\n",
       "         ...  \n",
       "2030    233.30\n",
       "2031    236.10\n",
       "2032    234.25\n",
       "2033    233.25\n",
       "2034    233.75\n",
       "Name: Close, Length: 2035, dtype: float64"
      ]
     },
     "execution_count": 11,
     "metadata": {},
     "output_type": "execute_result"
    }
   ],
   "source": [
    "df_close= df['Close']\n",
    "df_close"
   ]
  },
  {
   "cell_type": "code",
   "execution_count": 12,
   "metadata": {
    "executionInfo": {
     "elapsed": 6,
     "status": "ok",
     "timestamp": 1650733667904,
     "user": {
      "displayName": "Harsh Bansal",
      "userId": "14022242986795664987"
     },
     "user_tz": -330
    },
    "id": "hcqJiN8Cl3Kd"
   },
   "outputs": [],
   "source": [
    "df1= df.reset_index()['Close']"
   ]
  },
  {
   "cell_type": "markdown",
   "metadata": {
    "id": "ayl9nZ67mGQw"
   },
   "source": [
    "## Data Visualization"
   ]
  },
  {
   "cell_type": "code",
   "execution_count": 13,
   "metadata": {
    "colab": {
     "base_uri": "https://localhost:8080/",
     "height": 282
    },
    "executionInfo": {
     "elapsed": 19,
     "status": "ok",
     "timestamp": 1650733669839,
     "user": {
      "displayName": "Harsh Bansal",
      "userId": "14022242986795664987"
     },
     "user_tz": -330
    },
    "id": "f7zDi8WcmNaM",
    "outputId": "9b169f4b-3b56-46ac-ecb2-e5de7039a8a6"
   },
   "outputs": [
    {
     "data": {
      "text/plain": [
       "[<matplotlib.lines.Line2D at 0x7f6d9864cad0>]"
      ]
     },
     "execution_count": 13,
     "metadata": {},
     "output_type": "execute_result"
    },
    {
     "data": {
      "image/png": "[encoded data removed]",
      "text/plain": [
       "<Figure size 432x288 with 1 Axes>"
      ]
     },
     "metadata": {
      "needs_background": "light"
     },
     "output_type": "display_data"
    }
   ],
   "source": [
    "plt.plot(df['Close'])"
   ]
  },
  {
   "cell_type": "code",
   "execution_count": 14,
   "metadata": {
    "colab": {
     "base_uri": "https://localhost:8080/",
     "height": 376
    },
    "executionInfo": {
     "elapsed": 789,
     "status": "ok",
     "timestamp": 1650733672207,
     "user": {
      "displayName": "Harsh Bansal",
      "userId": "14022242986795664987"
     },
     "user_tz": -330
    },
    "id": "25774OW4lM9Y",
    "outputId": "c5699f35-c9da-4e26-eb04-58b80797dec7"
   },
   "outputs": [
    {
     "data": {
      "text/plain": [
       "<matplotlib.axes._subplots.AxesSubplot at 0x7f6d984e6ad0>"
      ]
     },
     "execution_count": 14,
     "metadata": {},
     "output_type": "execute_result"
    },
    {
     "data": {
      "image/png": "[encoded data removed]",
      "text/plain": [
       "<Figure size 432x288 with 2 Axes>"
      ]
     },
     "metadata": {
      "needs_background": "light"
     },
     "output_type": "display_data"
    }
   ],
   "source": [
    "sns.heatmap(df.corr(), annot=True, cmap=\"cubehelix_r\")"
   ]
  },
  {
   "cell_type": "markdown",
   "metadata": {
    "id": "Pj623P2wvAkf"
   },
   "source": [
    "Scaling data"
   ]
  },
  {
   "cell_type": "code",
   "execution_count": 15,
   "metadata": {
    "colab": {
     "base_uri": "https://localhost:8080/"
    },
    "executionInfo": {
     "elapsed": 7,
     "status": "ok",
     "timestamp": 1650733673562,
     "user": {
      "displayName": "Harsh Bansal",
      "userId": "14022242986795664987"
     },
     "user_tz": -330
    },
    "id": "NVrTe24rYBNL",
    "outputId": "863eb8d8-0ec4-4c49-d542-f0424fb33d58"
   },
   "outputs": [
    {
     "data": {
      "text/plain": [
       "array([[0.16584967],\n",
       "       [0.16319444],\n",
       "       [0.1621732 ],\n",
       "       ...,\n",
       "       [0.62622549],\n",
       "       [0.62214052],\n",
       "       [0.62418301]])"
      ]
     },
     "execution_count": 15,
     "metadata": {},
     "output_type": "execute_result"
    }
   ],
   "source": [
    "scalar=MinMaxScaler(feature_range=(0,1))\n",
    "df_close= scalar.fit_transform(np.array(df_close).reshape(-1,1))\n",
    "df_close"
   ]
  },
  {
   "cell_type": "markdown",
   "metadata": {
    "id": "nWl5GyXevFmY"
   },
   "source": [
    "Splitting the data into train and test"
   ]
  },
  {
   "cell_type": "code",
   "execution_count": 16,
   "metadata": {
    "executionInfo": {
     "elapsed": 9,
     "status": "ok",
     "timestamp": 1650733674708,
     "user": {
      "displayName": "Harsh Bansal",
      "userId": "14022242986795664987"
     },
     "user_tz": -330
    },
    "id": "jJM93tU2iIhK"
   },
   "outputs": [],
   "source": [
    "training_size= int(len(df_close)*0.70)\n",
    "test_size = len(df_close)- training_size\n",
    "train , test = df_close[0: training_size,:],df_close[training_size : len(df_close),:1]\n",
    "\n",
    "                   "
   ]
  },
  {
   "cell_type": "code",
   "execution_count": 28,
   "metadata": {
    "executionInfo": {
     "elapsed": 393,
     "status": "ok",
     "timestamp": 1650734820753,
     "user": {
      "displayName": "Harsh Bansal",
      "userId": "14022242986795664987"
     },
     "user_tz": -330
    },
    "id": "Xl8Cp8ltwCvN"
   },
   "outputs": [],
   "source": [
    "def create_mat(dataset,time_step=1):\n",
    "  dataX,dataY= [],[]\n",
    "  for i in range(len(dataset)-time_step-1):\n",
    "    a = dataset[i:(i+time_step),0]\n",
    "    dataX.append(a)\n",
    "    dataY.append(dataset[i+time_step,0])\n",
    "  return np.array(dataX),np.array(dataY)\n"
   ]
  },
  {
   "cell_type": "code",
   "execution_count": 29,
   "metadata": {
    "executionInfo": {
     "elapsed": 8,
     "status": "ok",
     "timestamp": 1650734830644,
     "user": {
      "displayName": "Harsh Bansal",
      "userId": "14022242986795664987"
     },
     "user_tz": -330
    },
    "id": "OJ74s_eGbF3e"
   },
   "outputs": [],
   "source": [
    "time_step = 100\n",
    "x_train , y_train = create_mat(train, time_step)\n",
    "x_test, y_test = create_mat(test , time_step)"
   ]
  },
  {
   "cell_type": "code",
   "execution_count": 31,
   "metadata": {
    "colab": {
     "base_uri": "https://localhost:8080/"
    },
    "executionInfo": {
     "elapsed": 387,
     "status": "ok",
     "timestamp": 1650734863966,
     "user": {
      "displayName": "Harsh Bansal",
      "userId": "14022242986795664987"
     },
     "user_tz": -330
    },
    "id": "UrnKw3Bjc_F3",
    "outputId": "c7113b1f-5e36-48ae-c509-d3fbd65c80ae"
   },
   "outputs": [
    {
     "data": {
      "text/plain": [
       "(1323, 100)"
      ]
     },
     "execution_count": 31,
     "metadata": {},
     "output_type": "execute_result"
    }
   ],
   "source": [
    "x_train.shape"
   ]
  },
  {
   "cell_type": "code",
   "execution_count": 32,
   "metadata": {
    "colab": {
     "base_uri": "https://localhost:8080/"
    },
    "executionInfo": {
     "elapsed": 4,
     "status": "ok",
     "timestamp": 1650734882590,
     "user": {
      "displayName": "Harsh Bansal",
      "userId": "14022242986795664987"
     },
     "user_tz": -330
    },
    "id": "g8CCPlmEduIh",
    "outputId": "a5e513a3-cf0b-4bd5-8686-a3adbad0627c"
   },
   "outputs": [
    {
     "data": {
      "text/plain": [
       "(1323,)"
      ]
     },
     "execution_count": 32,
     "metadata": {},
     "output_type": "execute_result"
    }
   ],
   "source": [
    "y_train.shape"
   ]
  },
  {
   "cell_type": "code",
   "execution_count": 33,
   "metadata": {
    "executionInfo": {
     "elapsed": 9,
     "status": "ok",
     "timestamp": 1650735018022,
     "user": {
      "displayName": "Harsh Bansal",
      "userId": "14022242986795664987"
     },
     "user_tz": -330
    },
    "id": "kEk9mJj8d1oA"
   },
   "outputs": [],
   "source": [
    "x_train = x_train.reshape(x_train.shape[0],x_train.shape[1],1)\n",
    "x_test = x_test.reshape(x_test.shape[0],x_test.shape[1],1)\n"
   ]
  },
  {
   "cell_type": "markdown",
   "metadata": {
    "id": "7nwPQT60vOZC"
   },
   "source": [
    "LSTM model"
   ]
  },
  {
   "cell_type": "code",
   "execution_count": 34,
   "metadata": {
    "executionInfo": {
     "elapsed": 429,
     "status": "ok",
     "timestamp": 1650735823887,
     "user": {
      "displayName": "Harsh Bansal",
      "userId": "14022242986795664987"
     },
     "user_tz": -330
    },
    "id": "URspf5GceWz1"
   },
   "outputs": [],
   "source": [
    "from tensorflow.keras.models import Sequential\n",
    "from tensorflow.keras.layers import Dense\n",
    "from tensorflow.keras.layers import LSTM"
   ]
  },
  {
   "cell_type": "code",
   "execution_count": 36,
   "metadata": {
    "colab": {
     "base_uri": "https://localhost:8080/"
    },
    "executionInfo": {
     "elapsed": 1561,
     "status": "ok",
     "timestamp": 1650736807734,
     "user": {
      "displayName": "Harsh Bansal",
      "userId": "14022242986795664987"
     },
     "user_tz": -330
    },
    "id": "K3NNXVY2hbYG",
    "outputId": "71d914bd-a86d-4cb3-ccf6-ca35fe4dfc73"
   },
   "outputs": [
    {
     "name": "stdout",
     "output_type": "stream",
     "text": [
      "Model: \"sequential_1\"\n",
      "_________________________________________________________________\n",
      " Layer (type)                Output Shape              Param #   \n",
      "=================================================================\n",
      " lstm (LSTM)                 (None, 100, 50)           10400     \n",
      "                                                                 \n",
      " lstm_1 (LSTM)               (None, 100, 50)           20200     \n",
      "                                                                 \n",
      " lstm_2 (LSTM)               (None, 50)                20200     \n",
      "                                                                 \n",
      " dense (Dense)               (None, 1)                 51        \n",
      "                                                                 \n",
      "=================================================================\n",
      "Total params: 50,851\n",
      "Trainable params: 50,851\n",
      "Non-trainable params: 0\n",
      "_________________________________________________________________\n"
     ]
    }
   ],
   "source": [
    "model = Sequential()\n",
    "model.add(LSTM(50,return_sequences = True , input_shape=(100,1)))\n",
    "model.add(LSTM(50, return_sequences= True))\n",
    "model.add(LSTM(50))\n",
    "model.add(Dense(1))\n",
    "model.compile(loss='mean_squared_error',optimizer='adam')\n",
    "model.summary()\n"
   ]
  },
  {
   "cell_type": "markdown",
   "metadata": {
    "id": "-3sk6RTwvR3F"
   },
   "source": [
    "Train the model"
   ]
  },
  {
   "cell_type": "code",
   "execution_count": 38,
   "metadata": {
    "colab": {
     "base_uri": "https://localhost:8080/"
    },
    "executionInfo": {
     "elapsed": 148018,
     "status": "ok",
     "timestamp": 1650737064538,
     "user": {
      "displayName": "Harsh Bansal",
      "userId": "14022242986795664987"
     },
     "user_tz": -330
    },
    "id": "xdwLuT9elFrP",
    "outputId": "8cab1153-57c0-4840-e87c-585ff878c69b"
   },
   "outputs": [
    {
     "name": "stdout",
     "output_type": "stream",
     "text": [
      "Epoch 1/40\n",
      "19/19 [==============================] - 11s 239ms/step - loss: 0.0129 - val_loss: 0.0014\n",
      "Epoch 2/40\n",
      "19/19 [==============================] - 3s 173ms/step - loss: 0.0020 - val_loss: 0.0013\n",
      "Epoch 3/40\n",
      "19/19 [==============================] - 3s 174ms/step - loss: 0.0011 - val_loss: 0.0014\n",
      "Epoch 4/40\n",
      "19/19 [==============================] - 3s 172ms/step - loss: 8.9434e-04 - val_loss: 0.0012\n",
      "Epoch 5/40\n",
      "19/19 [==============================] - 3s 172ms/step - loss: 8.7406e-04 - val_loss: 0.0013\n",
      "Epoch 6/40\n",
      "19/19 [==============================] - 3s 171ms/step - loss: 8.6759e-04 - val_loss: 0.0011\n",
      "Epoch 7/40\n",
      "19/19 [==============================] - 3s 173ms/step - loss: 8.0192e-04 - val_loss: 0.0011\n",
      "Epoch 8/40\n",
      "19/19 [==============================] - 3s 171ms/step - loss: 7.7947e-04 - val_loss: 0.0011\n",
      "Epoch 9/40\n",
      "19/19 [==============================] - 4s 207ms/step - loss: 7.4866e-04 - val_loss: 9.5418e-04\n",
      "Epoch 10/40\n",
      "19/19 [==============================] - 3s 173ms/step - loss: 7.4068e-04 - val_loss: 9.6859e-04\n",
      "Epoch 11/40\n",
      "19/19 [==============================] - 3s 174ms/step - loss: 7.4526e-04 - val_loss: 8.9806e-04\n",
      "Epoch 12/40\n",
      "19/19 [==============================] - 3s 176ms/step - loss: 6.8168e-04 - val_loss: 8.6599e-04\n",
      "Epoch 13/40\n",
      "19/19 [==============================] - 3s 174ms/step - loss: 6.8631e-04 - val_loss: 8.2564e-04\n",
      "Epoch 14/40\n",
      "19/19 [==============================] - 3s 175ms/step - loss: 6.4718e-04 - val_loss: 8.0857e-04\n",
      "Epoch 15/40\n",
      "19/19 [==============================] - 3s 174ms/step - loss: 6.1843e-04 - val_loss: 7.8381e-04\n",
      "Epoch 16/40\n",
      "19/19 [==============================] - 3s 175ms/step - loss: 6.1458e-04 - val_loss: 7.9410e-04\n",
      "Epoch 17/40\n",
      "19/19 [==============================] - 3s 173ms/step - loss: 5.9848e-04 - val_loss: 7.8056e-04\n",
      "Epoch 18/40\n",
      "19/19 [==============================] - 3s 173ms/step - loss: 5.9046e-04 - val_loss: 7.1828e-04\n",
      "Epoch 19/40\n",
      "19/19 [==============================] - 3s 173ms/step - loss: 5.6393e-04 - val_loss: 6.2680e-04\n",
      "Epoch 20/40\n",
      "19/19 [==============================] - 3s 173ms/step - loss: 6.5942e-04 - val_loss: 6.5889e-04\n",
      "Epoch 21/40\n",
      "19/19 [==============================] - 3s 175ms/step - loss: 5.6067e-04 - val_loss: 8.1857e-04\n",
      "Epoch 22/40\n",
      "19/19 [==============================] - 3s 175ms/step - loss: 5.5471e-04 - val_loss: 6.5444e-04\n",
      "Epoch 23/40\n",
      "19/19 [==============================] - 3s 176ms/step - loss: 5.4130e-04 - val_loss: 6.1215e-04\n",
      "Epoch 24/40\n",
      "19/19 [==============================] - 3s 175ms/step - loss: 5.1590e-04 - val_loss: 5.6508e-04\n",
      "Epoch 25/40\n",
      "19/19 [==============================] - 3s 173ms/step - loss: 5.1145e-04 - val_loss: 6.2961e-04\n",
      "Epoch 26/40\n",
      "19/19 [==============================] - 3s 172ms/step - loss: 4.9665e-04 - val_loss: 5.2738e-04\n",
      "Epoch 27/40\n",
      "19/19 [==============================] - 3s 179ms/step - loss: 5.0046e-04 - val_loss: 5.4973e-04\n",
      "Epoch 28/40\n",
      "19/19 [==============================] - 3s 177ms/step - loss: 4.7224e-04 - val_loss: 5.0330e-04\n",
      "Epoch 29/40\n",
      "19/19 [==============================] - 3s 176ms/step - loss: 4.6696e-04 - val_loss: 5.5310e-04\n",
      "Epoch 30/40\n",
      "19/19 [==============================] - 3s 176ms/step - loss: 4.6554e-04 - val_loss: 4.7390e-04\n",
      "Epoch 31/40\n",
      "19/19 [==============================] - 3s 177ms/step - loss: 4.4505e-04 - val_loss: 4.7799e-04\n",
      "Epoch 32/40\n",
      "19/19 [==============================] - 3s 175ms/step - loss: 4.3540e-04 - val_loss: 4.5035e-04\n",
      "Epoch 33/40\n",
      "19/19 [==============================] - 3s 174ms/step - loss: 4.5445e-04 - val_loss: 4.6543e-04\n",
      "Epoch 34/40\n",
      "19/19 [==============================] - 3s 176ms/step - loss: 4.1841e-04 - val_loss: 4.2272e-04\n",
      "Epoch 35/40\n",
      "19/19 [==============================] - 3s 174ms/step - loss: 4.3451e-04 - val_loss: 4.0217e-04\n",
      "Epoch 36/40\n",
      "19/19 [==============================] - 3s 176ms/step - loss: 4.5744e-04 - val_loss: 5.4117e-04\n",
      "Epoch 37/40\n",
      "19/19 [==============================] - 3s 177ms/step - loss: 4.1636e-04 - val_loss: 3.8729e-04\n",
      "Epoch 38/40\n",
      "19/19 [==============================] - 3s 175ms/step - loss: 3.7871e-04 - val_loss: 3.9769e-04\n",
      "Epoch 39/40\n",
      "19/19 [==============================] - 3s 174ms/step - loss: 3.7075e-04 - val_loss: 3.6589e-04\n",
      "Epoch 40/40\n",
      "19/19 [==============================] - 3s 175ms/step - loss: 3.7027e-04 - val_loss: 3.3259e-04\n"
     ]
    },
    {
     "data": {
      "text/plain": [
       "<keras.callbacks.History at 0x7f6d8fe322d0>"
      ]
     },
     "execution_count": 38,
     "metadata": {},
     "output_type": "execute_result"
    }
   ],
   "source": [
    "model.fit(x_train, y_train, validation_split =0.1, epochs=40, batch_size=64,verbose=1)"
   ]
  },
  {
   "cell_type": "markdown",
   "metadata": {
    "id": "YNuXtuQ2vYCm"
   },
   "source": [
    "Prediction"
   ]
  },
  {
   "cell_type": "code",
   "execution_count": 41,
   "metadata": {
    "executionInfo": {
     "elapsed": 2915,
     "status": "ok",
     "timestamp": 1650737162448,
     "user": {
      "displayName": "Harsh Bansal",
      "userId": "14022242986795664987"
     },
     "user_tz": -330
    },
    "id": "TtiEehjrlj5M"
   },
   "outputs": [],
   "source": [
    "predictions = model.predict(x_test)"
   ]
  },
  {
   "cell_type": "code",
   "execution_count": 43,
   "metadata": {
    "executionInfo": {
     "elapsed": 390,
     "status": "ok",
     "timestamp": 1650737630786,
     "user": {
      "displayName": "Harsh Bansal",
      "userId": "14022242986795664987"
     },
     "user_tz": -330
    },
    "id": "Nk9mtjGHmbi8"
   },
   "outputs": [],
   "source": [
    "inv_predictions = scalar.inverse_transform(predictions)"
   ]
  },
  {
   "cell_type": "code",
   "execution_count": 44,
   "metadata": {
    "colab": {
     "base_uri": "https://localhost:8080/"
    },
    "executionInfo": {
     "elapsed": 417,
     "status": "ok",
     "timestamp": 1650737640485,
     "user": {
      "displayName": "Harsh Bansal",
      "userId": "14022242986795664987"
     },
     "user_tz": -330
    },
    "id": "l_vNhKydnwdD",
    "outputId": "465fd784-031f-4d5b-e9ef-17eaaca9a673"
   },
   "outputs": [
    {
     "data": {
      "text/plain": [
       "array([[140.36067 ],\n",
       "       [140.69087 ],\n",
       "       [140.74315 ],\n",
       "       [140.11594 ],\n",
       "       [139.16985 ],\n",
       "       [138.1428  ],\n",
       "       [137.49246 ],\n",
       "       [137.30093 ],\n",
       "       [137.31311 ],\n",
       "       [137.41309 ],\n",
       "       [137.61101 ],\n",
       "       [138.17813 ],\n",
       "       [138.86198 ],\n",
       "       [139.85612 ],\n",
       "       [141.217   ],\n",
       "       [141.808   ],\n",
       "       [141.73915 ],\n",
       "       [141.46783 ],\n",
       "       [141.14351 ],\n",
       "       [141.93112 ],\n",
       "       [143.49823 ],\n",
       "       [145.42297 ],\n",
       "       [147.31833 ],\n",
       "       [148.50398 ],\n",
       "       [149.39928 ],\n",
       "       [149.78455 ],\n",
       "       [149.8795  ],\n",
       "       [150.07478 ],\n",
       "       [150.18927 ],\n",
       "       [150.21184 ],\n",
       "       [150.31958 ],\n",
       "       [150.11407 ],\n",
       "       [149.17012 ],\n",
       "       [146.97418 ],\n",
       "       [144.27423 ],\n",
       "       [141.66727 ],\n",
       "       [139.51295 ],\n",
       "       [137.68448 ],\n",
       "       [135.94656 ],\n",
       "       [134.01479 ],\n",
       "       [132.19212 ],\n",
       "       [130.66017 ],\n",
       "       [129.07036 ],\n",
       "       [127.80149 ],\n",
       "       [126.413925],\n",
       "       [124.82996 ],\n",
       "       [123.55504 ],\n",
       "       [122.520615],\n",
       "       [121.84088 ],\n",
       "       [121.14711 ],\n",
       "       [120.51597 ],\n",
       "       [120.009926],\n",
       "       [119.44814 ],\n",
       "       [119.08511 ],\n",
       "       [119.134094],\n",
       "       [119.60437 ],\n",
       "       [120.4808  ],\n",
       "       [121.41498 ],\n",
       "       [122.17468 ],\n",
       "       [122.82447 ],\n",
       "       [123.32514 ],\n",
       "       [123.570496],\n",
       "       [123.695305],\n",
       "       [123.75725 ],\n",
       "       [123.739944],\n",
       "       [123.662025],\n",
       "       [123.50483 ],\n",
       "       [123.43608 ],\n",
       "       [123.47352 ],\n",
       "       [123.59506 ],\n",
       "       [123.52237 ],\n",
       "       [123.272484],\n",
       "       [122.7496  ],\n",
       "       [122.01437 ],\n",
       "       [121.06912 ],\n",
       "       [120.33598 ],\n",
       "       [119.86361 ],\n",
       "       [119.75604 ],\n",
       "       [120.02038 ],\n",
       "       [120.6547  ],\n",
       "       [121.573135],\n",
       "       [122.59517 ],\n",
       "       [123.61001 ],\n",
       "       [124.45171 ],\n",
       "       [125.0506  ],\n",
       "       [125.37122 ],\n",
       "       [125.69639 ],\n",
       "       [125.877045],\n",
       "       [126.15661 ],\n",
       "       [126.487946],\n",
       "       [126.81243 ],\n",
       "       [127.17147 ],\n",
       "       [127.68593 ],\n",
       "       [127.96198 ],\n",
       "       [128.06299 ],\n",
       "       [128.08801 ],\n",
       "       [128.0792  ],\n",
       "       [128.13406 ],\n",
       "       [128.36362 ],\n",
       "       [128.59897 ],\n",
       "       [128.88062 ],\n",
       "       [129.81367 ],\n",
       "       [131.65756 ],\n",
       "       [134.1543  ],\n",
       "       [136.7265  ],\n",
       "       [139.34535 ],\n",
       "       [141.51042 ],\n",
       "       [142.99236 ],\n",
       "       [143.56725 ],\n",
       "       [143.2967  ],\n",
       "       [142.2357  ],\n",
       "       [140.87308 ],\n",
       "       [139.57605 ],\n",
       "       [138.70474 ],\n",
       "       [138.33183 ],\n",
       "       [138.24013 ],\n",
       "       [138.25029 ],\n",
       "       [138.2667  ],\n",
       "       [138.19643 ],\n",
       "       [138.56642 ],\n",
       "       [139.12306 ],\n",
       "       [139.91367 ],\n",
       "       [140.7914  ],\n",
       "       [141.55823 ],\n",
       "       [141.98659 ],\n",
       "       [142.01022 ],\n",
       "       [141.37802 ],\n",
       "       [140.50551 ],\n",
       "       [139.78094 ],\n",
       "       [139.68843 ],\n",
       "       [140.18924 ],\n",
       "       [141.2108  ],\n",
       "       [142.42517 ],\n",
       "       [143.29999 ],\n",
       "       [144.5055  ],\n",
       "       [145.93407 ],\n",
       "       [147.10231 ],\n",
       "       [148.01913 ],\n",
       "       [148.6482  ],\n",
       "       [148.94397 ],\n",
       "       [148.99356 ],\n",
       "       [149.01419 ],\n",
       "       [149.1388  ],\n",
       "       [149.39833 ],\n",
       "       [149.4901  ],\n",
       "       [149.42072 ],\n",
       "       [149.49356 ],\n",
       "       [149.57277 ],\n",
       "       [149.5034  ],\n",
       "       [149.20241 ],\n",
       "       [148.63104 ],\n",
       "       [148.13809 ],\n",
       "       [148.03998 ],\n",
       "       [148.2347  ],\n",
       "       [148.66531 ],\n",
       "       [149.17781 ],\n",
       "       [149.8601  ],\n",
       "       [150.43985 ],\n",
       "       [150.91791 ],\n",
       "       [151.72723 ],\n",
       "       [152.62592 ],\n",
       "       [153.3411  ],\n",
       "       [153.45581 ],\n",
       "       [153.05655 ],\n",
       "       [152.50073 ],\n",
       "       [152.0646  ],\n",
       "       [151.74622 ],\n",
       "       [151.41469 ],\n",
       "       [151.28258 ],\n",
       "       [151.34186 ],\n",
       "       [151.37276 ],\n",
       "       [150.79344 ],\n",
       "       [149.92552 ],\n",
       "       [148.8601  ],\n",
       "       [147.51367 ],\n",
       "       [145.81999 ],\n",
       "       [144.2013  ],\n",
       "       [143.29065 ],\n",
       "       [142.99504 ],\n",
       "       [143.1712  ],\n",
       "       [143.99495 ],\n",
       "       [145.51888 ],\n",
       "       [147.6309  ],\n",
       "       [149.91191 ],\n",
       "       [151.75104 ],\n",
       "       [153.15155 ],\n",
       "       [153.95676 ],\n",
       "       [154.1696  ],\n",
       "       [153.68373 ],\n",
       "       [153.16519 ],\n",
       "       [153.03181 ],\n",
       "       [153.35269 ],\n",
       "       [153.88007 ],\n",
       "       [154.24445 ],\n",
       "       [154.40984 ],\n",
       "       [154.4024  ],\n",
       "       [154.0763  ],\n",
       "       [153.17215 ],\n",
       "       [151.53699 ],\n",
       "       [149.74915 ],\n",
       "       [148.14706 ],\n",
       "       [147.17773 ],\n",
       "       [146.9782  ],\n",
       "       [147.23865 ],\n",
       "       [148.33794 ],\n",
       "       [149.71974 ],\n",
       "       [151.46555 ],\n",
       "       [154.18108 ],\n",
       "       [157.73497 ],\n",
       "       [161.89922 ],\n",
       "       [166.10695 ],\n",
       "       [169.52184 ],\n",
       "       [172.00943 ],\n",
       "       [173.05734 ],\n",
       "       [172.9555  ],\n",
       "       [171.63525 ],\n",
       "       [169.71034 ],\n",
       "       [167.48636 ],\n",
       "       [165.56097 ],\n",
       "       [164.36517 ],\n",
       "       [163.52661 ],\n",
       "       [163.09726 ],\n",
       "       [163.10103 ],\n",
       "       [163.22346 ],\n",
       "       [163.11896 ],\n",
       "       [163.00337 ],\n",
       "       [162.94505 ],\n",
       "       [163.42094 ],\n",
       "       [163.83174 ],\n",
       "       [163.59717 ],\n",
       "       [162.14464 ],\n",
       "       [160.80247 ],\n",
       "       [161.58282 ],\n",
       "       [165.9272  ],\n",
       "       [172.25362 ],\n",
       "       [179.26823 ],\n",
       "       [185.68263 ],\n",
       "       [189.63138 ],\n",
       "       [191.6419  ],\n",
       "       [191.73479 ],\n",
       "       [190.30627 ],\n",
       "       [187.67326 ],\n",
       "       [185.46838 ],\n",
       "       [184.28737 ],\n",
       "       [184.05376 ],\n",
       "       [183.94975 ],\n",
       "       [184.26018 ],\n",
       "       [186.09659 ],\n",
       "       [188.94698 ],\n",
       "       [192.17184 ],\n",
       "       [195.37148 ],\n",
       "       [198.3658  ],\n",
       "       [200.07039 ],\n",
       "       [201.05518 ],\n",
       "       [201.25798 ],\n",
       "       [201.23988 ],\n",
       "       [201.54051 ],\n",
       "       [201.73387 ],\n",
       "       [201.5184  ],\n",
       "       [199.46254 ],\n",
       "       [195.63994 ],\n",
       "       [192.35054 ],\n",
       "       [189.57106 ],\n",
       "       [188.2637  ],\n",
       "       [188.74297 ],\n",
       "       [190.57693 ],\n",
       "       [192.82407 ],\n",
       "       [195.47353 ],\n",
       "       [198.01628 ],\n",
       "       [199.82407 ],\n",
       "       [200.73416 ],\n",
       "       [200.95651 ],\n",
       "       [201.03128 ],\n",
       "       [200.80829 ],\n",
       "       [200.26169 ],\n",
       "       [199.63016 ],\n",
       "       [198.57057 ],\n",
       "       [197.01302 ],\n",
       "       [195.14261 ],\n",
       "       [194.29102 ],\n",
       "       [193.92819 ],\n",
       "       [194.51144 ],\n",
       "       [197.20955 ],\n",
       "       [202.0329  ],\n",
       "       [207.57048 ],\n",
       "       [212.5304  ],\n",
       "       [215.77988 ],\n",
       "       [216.91765 ],\n",
       "       [217.65648 ],\n",
       "       [216.80672 ],\n",
       "       [214.70515 ],\n",
       "       [214.40219 ],\n",
       "       [215.16428 ],\n",
       "       [216.1148  ],\n",
       "       [218.66634 ],\n",
       "       [222.67514 ],\n",
       "       [227.0876  ],\n",
       "       [232.00316 ],\n",
       "       [238.64546 ],\n",
       "       [245.0765  ],\n",
       "       [249.97513 ],\n",
       "       [252.80309 ],\n",
       "       [254.21309 ],\n",
       "       [254.23819 ],\n",
       "       [254.89336 ],\n",
       "       [254.77266 ],\n",
       "       [255.00737 ],\n",
       "       [254.90273 ],\n",
       "       [253.74713 ],\n",
       "       [252.15637 ],\n",
       "       [249.84097 ],\n",
       "       [248.92024 ],\n",
       "       [250.05626 ],\n",
       "       [254.02501 ],\n",
       "       [257.45978 ],\n",
       "       [258.99277 ],\n",
       "       [258.86148 ],\n",
       "       [258.1647  ],\n",
       "       [258.02536 ],\n",
       "       [259.9768  ],\n",
       "       [263.06433 ],\n",
       "       [266.02316 ],\n",
       "       [268.57437 ],\n",
       "       [270.83768 ],\n",
       "       [272.40298 ],\n",
       "       [273.3205  ],\n",
       "       [275.2153  ],\n",
       "       [276.89658 ],\n",
       "       [277.6594  ],\n",
       "       [277.58246 ],\n",
       "       [277.13196 ],\n",
       "       [276.65643 ],\n",
       "       [277.0163  ],\n",
       "       [277.49826 ],\n",
       "       [277.6717  ],\n",
       "       [277.429   ],\n",
       "       [279.01035 ],\n",
       "       [281.17734 ],\n",
       "       [282.07916 ],\n",
       "       [281.3728  ],\n",
       "       [278.44592 ],\n",
       "       [275.12643 ],\n",
       "       [272.44287 ],\n",
       "       [270.48752 ],\n",
       "       [268.87827 ],\n",
       "       [267.7663  ],\n",
       "       [266.8195  ],\n",
       "       [266.53354 ],\n",
       "       [264.61835 ],\n",
       "       [261.4958  ],\n",
       "       [256.0925  ],\n",
       "       [249.93439 ],\n",
       "       [243.63307 ],\n",
       "       [240.75798 ],\n",
       "       [241.19716 ],\n",
       "       [243.45586 ],\n",
       "       [247.50346 ],\n",
       "       [251.48872 ],\n",
       "       [254.04506 ],\n",
       "       [254.51732 ],\n",
       "       [252.28238 ],\n",
       "       [247.85088 ],\n",
       "       [243.473   ],\n",
       "       [239.47058 ],\n",
       "       [237.84169 ],\n",
       "       [238.74716 ],\n",
       "       [241.41498 ],\n",
       "       [244.72565 ],\n",
       "       [247.59763 ],\n",
       "       [249.651   ],\n",
       "       [250.50783 ],\n",
       "       [249.54288 ],\n",
       "       [248.20813 ],\n",
       "       [246.21877 ],\n",
       "       [245.34055 ],\n",
       "       [245.86378 ],\n",
       "       [247.25716 ],\n",
       "       [249.03966 ],\n",
       "       [249.508   ],\n",
       "       [246.95427 ],\n",
       "       [242.96759 ],\n",
       "       [239.17928 ],\n",
       "       [235.75742 ],\n",
       "       [233.11086 ],\n",
       "       [232.2374  ],\n",
       "       [233.13571 ],\n",
       "       [234.30458 ],\n",
       "       [238.1988  ],\n",
       "       [243.16647 ],\n",
       "       [246.9874  ],\n",
       "       [249.48116 ],\n",
       "       [250.55069 ],\n",
       "       [251.26826 ],\n",
       "       [251.33124 ],\n",
       "       [250.58792 ],\n",
       "       [249.36151 ],\n",
       "       [248.28088 ],\n",
       "       [248.17632 ],\n",
       "       [248.98569 ],\n",
       "       [250.70033 ],\n",
       "       [252.98775 ],\n",
       "       [255.17223 ],\n",
       "       [256.35046 ],\n",
       "       [256.4754  ],\n",
       "       [256.8466  ],\n",
       "       [257.77768 ],\n",
       "       [259.04904 ],\n",
       "       [261.1211  ],\n",
       "       [262.54538 ],\n",
       "       [262.11188 ],\n",
       "       [260.61182 ],\n",
       "       [259.8247  ],\n",
       "       [259.0905  ],\n",
       "       [258.81494 ],\n",
       "       [257.8115  ],\n",
       "       [256.77228 ],\n",
       "       [250.88661 ],\n",
       "       [240.41457 ],\n",
       "       [228.73363 ],\n",
       "       [219.87453 ],\n",
       "       [214.70117 ],\n",
       "       [213.08609 ],\n",
       "       [214.92972 ],\n",
       "       [219.43097 ],\n",
       "       [225.61798 ],\n",
       "       [232.286   ],\n",
       "       [238.35596 ],\n",
       "       [242.2534  ],\n",
       "       [244.83347 ],\n",
       "       [246.83722 ],\n",
       "       [247.14426 ],\n",
       "       [244.74893 ],\n",
       "       [242.07735 ],\n",
       "       [240.19739 ],\n",
       "       [239.41853 ],\n",
       "       [239.4206  ],\n",
       "       [239.31073 ],\n",
       "       [239.61598 ],\n",
       "       [240.51076 ],\n",
       "       [242.96143 ],\n",
       "       [245.19896 ],\n",
       "       [247.17422 ],\n",
       "       [247.27478 ],\n",
       "       [244.97142 ],\n",
       "       [241.0576  ],\n",
       "       [237.53769 ],\n",
       "       [235.56114 ],\n",
       "       [235.5782  ],\n",
       "       [236.7053  ],\n",
       "       [238.01068 ],\n",
       "       [239.96724 ],\n",
       "       [241.30496 ],\n",
       "       [244.49776 ],\n",
       "       [248.02489 ],\n",
       "       [249.94008 ],\n",
       "       [249.3845  ],\n",
       "       [248.61911 ],\n",
       "       [248.01979 ],\n",
       "       [246.85783 ],\n",
       "       [244.67441 ],\n",
       "       [241.1393  ],\n",
       "       [234.8622  ],\n",
       "       [228.52731 ],\n",
       "       [222.24396 ],\n",
       "       [216.40125 ],\n",
       "       [212.93983 ],\n",
       "       [212.84312 ],\n",
       "       [215.79419 ],\n",
       "       [218.90744 ],\n",
       "       [221.59859 ],\n",
       "       [223.98808 ],\n",
       "       [225.81277 ],\n",
       "       [227.6285  ],\n",
       "       [227.45584 ],\n",
       "       [225.63673 ],\n",
       "       [222.90936 ],\n",
       "       [220.84543 ],\n",
       "       [219.47993 ],\n",
       "       [218.60074 ],\n",
       "       [218.27887 ],\n",
       "       [217.8185  ],\n",
       "       [217.39899 ],\n",
       "       [217.56596 ],\n",
       "       [218.46611 ],\n",
       "       [220.28427 ],\n",
       "       [222.74886 ],\n",
       "       [224.46268 ],\n",
       "       [224.37753 ],\n",
       "       [222.26859 ],\n",
       "       [220.04573 ],\n",
       "       [217.85466 ],\n",
       "       [216.27493 ],\n",
       "       [215.67888 ],\n",
       "       [215.65938 ],\n",
       "       [216.34859 ],\n",
       "       [215.49701 ],\n",
       "       [213.27782 ],\n",
       "       [210.39017 ],\n",
       "       [207.99396 ],\n",
       "       [206.43456 ],\n",
       "       [204.9453  ],\n",
       "       [204.6458  ],\n",
       "       [207.05206 ],\n",
       "       [211.55981 ],\n",
       "       [216.41138 ],\n",
       "       [220.3211  ],\n",
       "       [222.6174  ],\n",
       "       [223.08125 ],\n",
       "       [222.55872 ],\n",
       "       [221.25247 ]], dtype=float32)"
      ]
     },
     "execution_count": 44,
     "metadata": {},
     "output_type": "execute_result"
    }
   ],
   "source": [
    "inv_predictions"
   ]
  },
  {
   "cell_type": "code",
   "execution_count": 48,
   "metadata": {
    "executionInfo": {
     "elapsed": 2536,
     "status": "ok",
     "timestamp": 1650737945111,
     "user": {
      "displayName": "Harsh Bansal",
      "userId": "14022242986795664987"
     },
     "user_tz": -330
    },
    "id": "hdtX0Q32oW5G"
   },
   "outputs": [],
   "source": [
    "train_predict = model.predict(x_train)\n",
    "test_predict = model.predict(x_test)\n",
    "# transform to origina form\n",
    "train_predict= scalar.inverse_transform(train_predict)\n",
    "test_predict = scalar.inverse_transform(test_predict)"
   ]
  },
  {
   "cell_type": "markdown",
   "metadata": {
    "id": "LTu31RQUveDo"
   },
   "source": [
    "Calculate RootMeanSquare Error of the model\n"
   ]
  },
  {
   "cell_type": "code",
   "execution_count": 50,
   "metadata": {
    "colab": {
     "base_uri": "https://localhost:8080/"
    },
    "executionInfo": {
     "elapsed": 402,
     "status": "ok",
     "timestamp": 1650738061676,
     "user": {
      "displayName": "Harsh Bansal",
      "userId": "14022242986795664987"
     },
     "user_tz": -330
    },
    "id": "IOeSWY_noqh1",
    "outputId": "b73ba500-0e0c-4d95-a4a3-5ba8f90caccd"
   },
   "outputs": [
    {
     "name": "stdout",
     "output_type": "stream",
     "text": [
      "The MSE for above model is: 0.0772800950673391\n"
     ]
    }
   ],
   "source": [
    "MSE= math.sqrt(mean_squared_error(y_test, predictions))\n",
    "print('The MSE for above model is:',MSE)"
   ]
  },
  {
   "cell_type": "markdown",
   "metadata": {
    "id": "0DF2C6Myvs11"
   },
   "source": [
    "Plotting"
   ]
  },
  {
   "cell_type": "code",
   "execution_count": 54,
   "metadata": {
    "colab": {
     "base_uri": "https://localhost:8080/",
     "height": 265
    },
    "executionInfo": {
     "elapsed": 558,
     "status": "ok",
     "timestamp": 1650738495829,
     "user": {
      "displayName": "Harsh Bansal",
      "userId": "14022242986795664987"
     },
     "user_tz": -330
    },
    "id": "s_qqYs3qptIJ",
    "outputId": "5ade868d-848a-4965-ee09-ba496157a169"
   },
   "outputs": [
    {
     "data": {
      "image/png": "[encoded data removed]",
      "text/plain": [
       "<Figure size 432x288 with 1 Axes>"
      ]
     },
     "metadata": {
      "needs_background": "light"
     },
     "output_type": "display_data"
    }
   ],
   "source": [
    "look_back=100\n",
    "trainPredictPlot= np.empty_like(df_close)\n",
    "trainPredictPlot[:, :] = np.nan\n",
    "trainPredictPlot[look_back:len(train_predict)+look_back, :] = train_predict\n",
    "\n",
    "testPredictPlot = np.empty_like(df_close)\n",
    "testPredictPlot[:, :] = np.nan\n",
    "testPredictPlot[len(train_predict)+(look_back*2)+1:len(df1)-1, :] = test_predict\n",
    "\n",
    "plt.plot(scalar.inverse_transform(df_close))\n",
    "plt.plot(trainPredictPlot)\n",
    "plt.plot(testPredictPlot)\n",
    "plt.show()\n"
   ]
  },
  {
   "cell_type": "code",
   "execution_count": 55,
   "metadata": {
    "colab": {
     "base_uri": "https://localhost:8080/"
    },
    "executionInfo": {
     "elapsed": 463,
     "status": "ok",
     "timestamp": 1650738583349,
     "user": {
      "displayName": "Harsh Bansal",
      "userId": "14022242986795664987"
     },
     "user_tz": -330
    },
    "id": "FQGz4_KhrA5O",
    "outputId": "0c34e2bb-94df-4497-a72a-837633003828"
   },
   "outputs": [
    {
     "data": {
      "text/plain": [
       "[[0.16217320261437906],\n",
       " [0.15951797385620914],\n",
       " [0.16707516339869277],\n",
       " [0.15992647058823523],\n",
       " [0.1605392156862745],\n",
       " [0.16441993464052285],\n",
       " [0.1668709150326797],\n",
       " [0.16932189542483655],\n",
       " [0.16074346405228757],\n",
       " [0.1597222222222222],\n",
       " [0.1640114379084967],\n",
       " [0.15727124183006536],\n",
       " [0.14705882352941174],\n",
       " [0.14460784313725483],\n",
       " [0.15175653594771238],\n",
       " [0.15441176470588236],\n",
       " [0.15216503267973858],\n",
       " [0.14848856209150324],\n",
       " [0.15522875816993464],\n",
       " [0.1576797385620915],\n",
       " [0.16217320261437906],\n",
       " [0.16094771241830064],\n",
       " [0.1633986928104575],\n",
       " [0.15931372549019607],\n",
       " [0.1597222222222222],\n",
       " [0.1611519607843137],\n",
       " [0.16666666666666663],\n",
       " [0.15747549019607843],\n",
       " [0.1537990196078431],\n",
       " [0.14848856209150324],\n",
       " [0.15114379084967322],\n",
       " [0.15032679738562088],\n",
       " [0.1515522875816993],\n",
       " [0.15645424836601307],\n",
       " [0.16033496732026142],\n",
       " [0.1566584967320261],\n",
       " [0.15686274509803916],\n",
       " [0.1774918300653595],\n",
       " [0.1797385620915033],\n",
       " [0.17442810457516345],\n",
       " [0.19281045751633985],\n",
       " [0.1860702614379085],\n",
       " [0.1881127450980392],\n",
       " [0.18443627450980393],\n",
       " [0.18280228758169936],\n",
       " [0.184640522875817],\n",
       " [0.181781045751634],\n",
       " [0.18913398692810457],\n",
       " [0.18709150326797386],\n",
       " [0.1768790849673203],\n",
       " [0.18382352941176472],\n",
       " [0.19158496732026142],\n",
       " [0.19914215686274506],\n",
       " [0.2052696078431372],\n",
       " [0.22038398692810457],\n",
       " [0.21711601307189543],\n",
       " [0.21629901960784315],\n",
       " [0.21854575163398682],\n",
       " [0.21098856209150318],\n",
       " [0.2130310457516339],\n",
       " [0.21221405228758172],\n",
       " [0.20915032679738566],\n",
       " [0.21098856209150318],\n",
       " [0.21098856209150318],\n",
       " [0.2001633986928104],\n",
       " [0.20057189542483667],\n",
       " [0.21609477124183007],\n",
       " [0.20772058823529416],\n",
       " [0.20649509803921562],\n",
       " [0.2144607843137254],\n",
       " [0.20506535947712423],\n",
       " [0.2308006535947712],\n",
       " [0.24183006535947715],\n",
       " [0.25],\n",
       " [0.24530228758169936],\n",
       " [0.23468137254901966],\n",
       " [0.22385620915032678],\n",
       " [0.23427287581699352],\n",
       " [0.23754084967320255],\n",
       " [0.25306372549019607],\n",
       " [0.25449346405228757],\n",
       " [0.23202614379084963],\n",
       " [0.2301879084967321],\n",
       " [0.2287581699346405],\n",
       " [0.23325163398692816],\n",
       " [0.23161764705882348],\n",
       " [0.2365196078431372],\n",
       " [0.24632352941176472],\n",
       " [0.23468137254901966],\n",
       " [0.23958333333333326],\n",
       " [0.2422385620915033],\n",
       " [0.24305555555555547],\n",
       " [0.2408088235294118],\n",
       " [0.2371323529411764],\n",
       " [0.2420343137254901],\n",
       " [0.2422385620915033],\n",
       " [0.2457107843137255],\n",
       " [0.24775326797385622],\n",
       " [0.24836601307189543],\n",
       " [0.25020424836601296]]"
      ]
     },
     "execution_count": 55,
     "metadata": {},
     "output_type": "execute_result"
    }
   ],
   "source": [
    "temp_input = list(x_test)\n",
    "temp_input = temp_input[0].tolist()\n",
    "temp_input"
   ]
  },
  {
   "cell_type": "code",
   "execution_count": null,
   "metadata": {
    "id": "2_0avTaqr9K_"
   },
   "outputs": [],
   "source": []
  }
 ],
 "metadata": {
  "colab": {
   "authorship_tag": "ABX9TyPg77UeKrjglGFDhbMYRMea",
   "collapsed_sections": [],
   "name": "#LGMVIP_Task2_Stock Market Prediction And Forecasting.ipynb",
   "provenance": []
  },
  "kernelspec": {
   "display_name": "Python 3 (ipykernel)",
   "language": "python",
   "name": "python3"
  },
  "language_info": {
   "codemirror_mode": {
    "name": "ipython",
    "version": 3
   },
   "file_extension": ".py",
   "mimetype": "text/x-python",
   "name": "python",
   "nbconvert_exporter": "python",
   "pygments_lexer": "ipython3",
   "version": "3.10.4"
  }
 },
 "nbformat": 4,
 "nbformat_minor": 1
}
